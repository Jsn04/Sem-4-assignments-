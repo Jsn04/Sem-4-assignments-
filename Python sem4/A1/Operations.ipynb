{
 "cells": [
  {
   "cell_type": "code",
   "execution_count": 22,
   "metadata": {},
   "outputs": [
    {
     "name": "stdout",
     "output_type": "stream",
     "text": [
      "5\n",
      "8.0\n"
     ]
    }
   ],
   "source": [
    "#Perform operations on two numbers\n",
    "a = 2\n",
    "b = 3\n",
    "d = 3.5\n",
    "e = 4.5\n",
    "#Addition\n",
    "c = a + b\n",
    "f = d + e\n",
    "print(c)\n",
    "print(f)"
   ]
  },
  {
   "cell_type": "code",
   "execution_count": 23,
   "metadata": {},
   "outputs": [
    {
     "name": "stdout",
     "output_type": "stream",
     "text": [
      "1\n",
      "-1.0\n"
     ]
    }
   ],
   "source": [
    "#Subtraction\n",
    "c = b - a\n",
    "f = d - e\n",
    "print(c)\n",
    "print(f)"
   ]
  },
  {
   "cell_type": "code",
   "execution_count": 24,
   "metadata": {},
   "outputs": [
    {
     "name": "stdout",
     "output_type": "stream",
     "text": [
      "6\n",
      "15.75\n"
     ]
    }
   ],
   "source": [
    "#Multiplication\n",
    "c = a * b\n",
    "f = d * e\n",
    "print(c)\n",
    "print(f)"
   ]
  },
  {
   "cell_type": "code",
   "execution_count": 25,
   "metadata": {},
   "outputs": [
    {
     "name": "stdout",
     "output_type": "stream",
     "text": [
      "8\n",
      "193.30531630687244\n"
     ]
    }
   ],
   "source": [
    "#Power\n",
    "c = a ** b\n",
    "f = e ** d\n",
    "print(c)\n",
    "print(f)"
   ]
  },
  {
   "cell_type": "code",
   "execution_count": 26,
   "metadata": {},
   "outputs": [
    {
     "name": "stdout",
     "output_type": "stream",
     "text": [
      "1.5\n",
      "0.7777777777777778\n"
     ]
    }
   ],
   "source": [
    "#Division\n",
    "c = b / a\n",
    "f = d / e\n",
    "print(c)\n",
    "print(f)"
   ]
  },
  {
   "cell_type": "code",
   "execution_count": 27,
   "metadata": {},
   "outputs": [
    {
     "name": "stdout",
     "output_type": "stream",
     "text": [
      "1\n",
      "1.5\n"
     ]
    }
   ],
   "source": [
    "#Modulus\n",
    "c = b % a\n",
    "f = d % a\n",
    "print(c)\n",
    "print(f)"
   ]
  },
  {
   "cell_type": "code",
   "execution_count": 28,
   "metadata": {},
   "outputs": [
    {
     "name": "stdout",
     "output_type": "stream",
     "text": [
      "a is smaller\n"
     ]
    }
   ],
   "source": [
    "#Comparison Integer\n",
    "if a > b:\n",
    "    print(\"a is greater\")\n",
    "elif a < b:\n",
    "    print(\"a is smaller\")\n",
    "else:\n",
    "    print(\"a and b are equal\")"
   ]
  },
  {
   "cell_type": "code",
   "execution_count": 29,
   "metadata": {},
   "outputs": [
    {
     "name": "stdout",
     "output_type": "stream",
     "text": [
      "d is smaller\n"
     ]
    }
   ],
   "source": [
    "#Comparison Floating\n",
    "if d > e:\n",
    "    print(\"d is greater\")\n",
    "elif d < e:\n",
    "    print(\"d is smaller\")\n",
    "else:\n",
    "    print(\"d and e are equal\")"
   ]
  }
 ],
 "metadata": {
  "kernelspec": {
   "display_name": "base",
   "language": "python",
   "name": "python3"
  },
  "language_info": {
   "codemirror_mode": {
    "name": "ipython",
    "version": 3
   },
   "file_extension": ".py",
   "mimetype": "text/x-python",
   "name": "python",
   "nbconvert_exporter": "python",
   "pygments_lexer": "ipython3",
   "version": "3.11.5"
  }
 },
 "nbformat": 4,
 "nbformat_minor": 2
}
