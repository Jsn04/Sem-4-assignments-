{
 "cells": [
  {
   "cell_type": "code",
   "execution_count": null,
   "metadata": {},
   "outputs": [],
   "source": [
    "def pythagoras(s1, s2, h):\n",
    "    if (s1*s1 + s2*s2 == h*h):\n",
    "        print(\"It is a right angled triangle\")\n",
    "    else:\n",
    "        print(\"It is not a right angled triangle\")\n",
    "try:\n",
    "    base = int(input(\"Enter length of base: \"))\n",
    "    perpendicular = int(input(\"Enter length of perpendicular: \"))\n",
    "    hypo = int(input(\"Enter length of hypotenuse: \"))\n",
    "    if base == 0 or perpendicular == 0 or hypo == 0:\n",
    "        raise Exception\n",
    "except ValueError:\n",
    "    print(\"Please enter integer that is not zero\")\n",
    "except Exception:\n",
    "    print(\"Value should not be zero\")\n",
    "else:\n",
    "    pythagoras(base, perpendicular, hypo)"
   ]
  }
 ],
 "metadata": {
  "language_info": {
   "name": "python"
  }
 },
 "nbformat": 4,
 "nbformat_minor": 2
}
