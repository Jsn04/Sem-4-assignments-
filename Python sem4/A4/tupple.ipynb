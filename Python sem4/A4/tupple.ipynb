{
 "cells": [
  {
   "cell_type": "code",
   "execution_count": 10,
   "metadata": {},
   "outputs": [
    {
     "name": "stdout",
     "output_type": "stream",
     "text": [
      "[1, 2, 3, [4, 5]]\n"
     ]
    }
   ],
   "source": [
    "my_list= [1,2,3]\n",
    "# append- adding the elements to the list (added as a sinlge element)\n",
    "#extend- adding the elements to the list (added as different elements)\n",
    "#insert- adding the elements to the specific index values\n",
    "\n",
    "#append function\n",
    "my_list.append([4,5])\n",
    "append= print(my_list)\n",
    "\n",
    "\n"
   ]
  },
  {
   "cell_type": "code",
   "execution_count": 11,
   "metadata": {},
   "outputs": [
    {
     "name": "stdout",
     "output_type": "stream",
     "text": [
      "[1, 2, 3, 4, 5]\n"
     ]
    }
   ],
   "source": [
    "my_list=[1,2,3]\n",
    "#extend function\n",
    "my_list.extend([4,5])\n",
    "extend= print(my_list)"
   ]
  },
  {
   "cell_type": "code",
   "execution_count": 15,
   "metadata": {},
   "outputs": [
    {
     "name": "stdout",
     "output_type": "stream",
     "text": [
      "[1, 2, 3, [5, 'ishan']]\n"
     ]
    }
   ],
   "source": [
    "my_list=[1,2,3]\n",
    "#insert function \n",
    "my_list.insert(4, [5, 'ishan'])\n",
    "print(my_list)"
   ]
  },
  {
   "cell_type": "code",
   "execution_count": 14,
   "metadata": {},
   "outputs": [
    {
     "name": "stdout",
     "output_type": "stream",
     "text": [
      "[1, 2, 3, 5]\n"
     ]
    }
   ],
   "source": [
    "my_list=[1,2,3,4,5]\n",
    "#delete function (del) (use the index of the value to be deleted )\n",
    "del my_list[3]\n",
    "print(my_list)"
   ]
  },
  {
   "cell_type": "code",
   "execution_count": 16,
   "metadata": {},
   "outputs": [
    {
     "name": "stdout",
     "output_type": "stream",
     "text": [
      "[1, 2, 4, 5]\n"
     ]
    }
   ],
   "source": [
    "my_list=[1,2,3,4,5]\n",
    "#remove function (remove)(use the value directly to be removed)(the )\n",
    "my_list.remove(3)\n",
    "print(my_list)"
   ]
  },
  {
   "cell_type": "code",
   "execution_count": 17,
   "metadata": {},
   "outputs": [
    {
     "name": "stdout",
     "output_type": "stream",
     "text": [
      "[1, 3, 4, 5]\n"
     ]
    }
   ],
   "source": [
    "my_list=[1,2,3,4,5]\n",
    "#pop function \n",
    "my_list.pop(1)\n",
    "print(my_list)"
   ]
  },
  {
   "cell_type": "code",
   "execution_count": 19,
   "metadata": {},
   "outputs": [
    {
     "name": "stdout",
     "output_type": "stream",
     "text": [
      "1\n",
      "2\n",
      "3\n",
      "4\n",
      "5\n",
      "6\n",
      "4\n",
      "[1, 2]\n",
      "6\n"
     ]
    }
   ],
   "source": [
    "#Accesing elements from a list \n",
    "my_list=[1,2,3,4,5,6]\n",
    "for element in  my_list:\n",
    "    print(element)\n",
    "a_3= print(my_list[3]) #(3rd indexed element will b printed)\n",
    "print(my_list[0:2]) #(Range of elements printed, 0 and 1st element printed, excluding 2)\n",
    "print(my_list[-1]) #reverse of the string will be printed "
   ]
  }
 ],
 "metadata": {
  "kernelspec": {
   "display_name": "Python 3",
   "language": "python",
   "name": "python3"
  },
  "language_info": {
   "codemirror_mode": {
    "name": "ipython",
    "version": 3
   },
   "file_extension": ".py",
   "mimetype": "text/x-python",
   "name": "python",
   "nbconvert_exporter": "python",
   "pygments_lexer": "ipython3",
   "version": "3.12.1"
  }
 },
 "nbformat": 4,
 "nbformat_minor": 2
}
